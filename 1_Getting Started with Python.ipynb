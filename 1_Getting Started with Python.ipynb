{
 "cells": [
  {
   "cell_type": "code",
   "execution_count": 1,
   "metadata": {
    "collapsed": false
   },
   "outputs": [
    {
     "name": "stdout",
     "output_type": "stream",
     "text": [
      "Enter your nameYulia\n",
      "Hello Yulia\n"
     ]
    }
   ],
   "source": [
    "name = raw_input(\"Enter your name\")\n",
    "print \"Hello\" + ' ' + name"
   ]
  },
  {
   "cell_type": "code",
   "execution_count": 2,
   "metadata": {
    "collapsed": false
   },
   "outputs": [
    {
     "name": "stdout",
     "output_type": "stream",
     "text": [
      "Enter Hours:35\n",
      "Enter Rate:2.75\n",
      "96.25\n"
     ]
    }
   ],
   "source": [
    "hrs = raw_input(\"Enter Hours:\")\n",
    "rate = raw_input(\"Enter Rate:\")\n",
    "print float(hrs)*float(rate)"
   ]
  },
  {
   "cell_type": "code",
   "execution_count": 3,
   "metadata": {
    "collapsed": false
   },
   "outputs": [
    {
     "data": {
      "text/plain": [
       "2"
      ]
     },
     "execution_count": 3,
     "metadata": {},
     "output_type": "execute_result"
    }
   ],
   "source": [
    "42 % 10"
   ]
  },
  {
   "cell_type": "code",
   "execution_count": 6,
   "metadata": {
    "collapsed": false
   },
   "outputs": [
    {
     "name": "stdout",
     "output_type": "stream",
     "text": [
      "98\n"
     ]
    }
   ],
   "source": [
    "x = int(98.6)\n",
    "print x"
   ]
  },
  {
   "cell_type": "code",
   "execution_count": 7,
   "metadata": {
    "collapsed": false
   },
   "outputs": [
    {
     "name": "stdout",
     "output_type": "stream",
     "text": [
      "Enter Hours:45\n",
      "Enter Rate:10.50\n",
      "498.75\n"
     ]
    }
   ],
   "source": [
    "hrs = raw_input(\"Enter Hours:\")\n",
    "h = float(hrs)\n",
    "rate = raw_input(\"Enter Rate:\")\n",
    "r = float(rate)\n",
    "if h<=40:\n",
    "    print h*r\n",
    "print 40*r+(h-40)*1.5*r"
   ]
  },
  {
   "cell_type": "code",
   "execution_count": 9,
   "metadata": {
    "collapsed": false
   },
   "outputs": [
    {
     "name": "stdout",
     "output_type": "stream",
     "text": [
      "Enter Score: 0.85\n",
      "B\n"
     ]
    }
   ],
   "source": [
    "score = raw_input(\"Enter Score: \")\n",
    "sc = float(score)\n",
    "if sc<0.0 or sc>1.0:\n",
    "    print \"Error\"\n",
    "    quit()\n",
    "if sc < 0.6 : print \"F\"\n",
    "elif sc < 0.7 and sc >= 0.6 : print \"D\"\n",
    "elif sc < 0.8 : print \"C\"\n",
    "elif sc < 0.9 : print \"B\"\n",
    "elif sc < 1 : print \"A\""
   ]
  },
  {
   "cell_type": "code",
   "execution_count": 13,
   "metadata": {
    "collapsed": false
   },
   "outputs": [
    {
     "name": "stdout",
     "output_type": "stream",
     "text": [
      "Is 6\n",
      "Is Still 6\n",
      "Third 6\n"
     ]
    }
   ],
   "source": [
    "x=6\n",
    "if x == 6 :\n",
    "    print 'Is 6'\n",
    "    print 'Is Still 6'\n",
    "    print 'Third 6'"
   ]
  },
  {
   "cell_type": "code",
   "execution_count": 17,
   "metadata": {
    "collapsed": false
   },
   "outputs": [
    {
     "name": "stdout",
     "output_type": "stream",
     "text": [
      "Small\n",
      "All done\n"
     ]
    }
   ],
   "source": [
    "x = 0\n",
    "if x < 2 :\n",
    "    print 'Small'\n",
    "elif x < 10 :\n",
    "    print 'Medium'\n",
    "else :\n",
    "    print 'LARGE'\n",
    "print 'All done'"
   ]
  },
  {
   "cell_type": "code",
   "execution_count": 20,
   "metadata": {
    "collapsed": false
   },
   "outputs": [
    {
     "name": "stdout",
     "output_type": "stream",
     "text": [
      "-1\n"
     ]
    }
   ],
   "source": [
    "astr = 'Hello Bob'\n",
    "istr = 0\n",
    "try:\n",
    "    istr = int(astr)\n",
    "except:\n",
    "    istr = -1\n",
    "print istr"
   ]
  },
  {
   "cell_type": "code",
   "execution_count": 21,
   "metadata": {
    "collapsed": false
   },
   "outputs": [
    {
     "name": "stdout",
     "output_type": "stream",
     "text": [
      "There\n"
     ]
    }
   ],
   "source": [
    "def thing():\n",
    "    print 'Hello' \n",
    "\n",
    "print 'There'"
   ]
  },
  {
   "cell_type": "code",
   "execution_count": 22,
   "metadata": {
    "collapsed": false
   },
   "outputs": [
    {
     "name": "stdout",
     "output_type": "stream",
     "text": [
      "10\n",
      "20\n"
     ]
    }
   ],
   "source": [
    "def func(x) :\n",
    "    print x\n",
    "\n",
    "func(10)\n",
    "func(20)"
   ]
  },
  {
   "cell_type": "code",
   "execution_count": 23,
   "metadata": {
    "collapsed": false
   },
   "outputs": [
    {
     "name": "stdout",
     "output_type": "stream",
     "text": [
      "Hello\n"
     ]
    }
   ],
   "source": [
    "def stuff():\n",
    "    print 'Hello'\n",
    "    return\n",
    "    print 'World'\n",
    "\n",
    "stuff()"
   ]
  },
  {
   "cell_type": "code",
   "execution_count": 24,
   "metadata": {
    "collapsed": false
   },
   "outputs": [
    {
     "name": "stdout",
     "output_type": "stream",
     "text": [
      "Bonjour Michael\n"
     ]
    }
   ],
   "source": [
    "def greet(lang):\n",
    "    if lang == 'es':\n",
    "        return 'Hola'\n",
    "    elif lang == 'fr':\n",
    "        return 'Bonjour'\n",
    "    else:\n",
    "        return 'Hello'\n",
    "\n",
    "print greet('fr'),'Michael'"
   ]
  },
  {
   "cell_type": "code",
   "execution_count": 25,
   "metadata": {
    "collapsed": false
   },
   "outputs": [
    {
     "name": "stdout",
     "output_type": "stream",
     "text": [
      "2\n"
     ]
    }
   ],
   "source": [
    "def addtwo(a, b):\n",
    "    added = a + b\n",
    "    return a\n",
    "\n",
    "x = addtwo(2, 7)\n",
    "print x"
   ]
  },
  {
   "cell_type": "code",
   "execution_count": 27,
   "metadata": {
    "collapsed": false
   },
   "outputs": [
    {
     "name": "stdout",
     "output_type": "stream",
     "text": [
      "Enter Hours:45\n",
      "Enter Rate:10.50\n"
     ]
    },
    {
     "data": {
      "text/plain": [
       "498.75"
      ]
     },
     "execution_count": 27,
     "metadata": {},
     "output_type": "execute_result"
    }
   ],
   "source": [
    "hours = raw_input(\"Enter Hours:\")\n",
    "rate = raw_input(\"Enter Rate:\")\n",
    "h = float(hours)\n",
    "r = float(rate)\n",
    "def computepay(h,r):\n",
    "    if h>40:\n",
    "        return 40*r + (h-40)*r*1.5\n",
    "    else:\n",
    "        return h*r\n",
    "print computepay(h,r)"
   ]
  },
  {
   "cell_type": "code",
   "execution_count": 29,
   "metadata": {
    "collapsed": false
   },
   "outputs": [
    {
     "name": "stdout",
     "output_type": "stream",
     "text": [
      "Enter Hours:45\n",
      "Enter Rate: 10.50\n",
      "498.75\n"
     ]
    }
   ],
   "source": [
    "def computepay(h,r):\n",
    "    return pay\n",
    "\n",
    "hrs = raw_input(\"Enter Hours:\")\n",
    "h = float(hrs)\n",
    "rate = raw_input(\"Enter Rate: \")\n",
    "r = float(rate)\n",
    "if h <= 40:\n",
    "    pay = r*h\n",
    "else:\n",
    "    pay = r*40 + (r*1.5*(h-40))\n",
    "print computepay(h,r)"
   ]
  },
  {
   "cell_type": "code",
   "execution_count": 34,
   "metadata": {
    "collapsed": false
   },
   "outputs": [
    {
     "name": "stdout",
     "output_type": "stream",
     "text": [
      "5\n"
     ]
    }
   ],
   "source": [
    "tot = 0 \n",
    "for i in [5, 4, 3, 2, 1] :\n",
    "    tot = tot + 1\n",
    "print tot"
   ]
  },
  {
   "cell_type": "code",
   "execution_count": 31,
   "metadata": {
    "collapsed": false
   },
   "outputs": [
    {
     "name": "stdout",
     "output_type": "stream",
     "text": [
      "After 154\n"
     ]
    }
   ],
   "source": [
    "zork = 0\n",
    "for thing in [9, 41, 12, 3, 74, 15] :\n",
    "    zork = zork + thing\n",
    "print 'After', zork"
   ]
  },
  {
   "cell_type": "code",
   "execution_count": 35,
   "metadata": {
    "collapsed": false
   },
   "outputs": [
    {
     "name": "stdout",
     "output_type": "stream",
     "text": [
      "-1\n"
     ]
    }
   ],
   "source": [
    "smallest_so_far = -1\n",
    "for the_num in [9, 41, 12, 3, 74, 15] :\n",
    "   if the_num < smallest_so_far :\n",
    "      smallest_so_far = the_num\n",
    "print smallest_so_far"
   ]
  },
  {
   "cell_type": "code",
   "execution_count": 37,
   "metadata": {
    "collapsed": false
   },
   "outputs": [
    {
     "name": "stdout",
     "output_type": "stream",
     "text": [
      "Dry off!\n"
     ]
    }
   ],
   "source": [
    "n = 0\n",
    "while n > 0 :\n",
    "    print 'Lather'\n",
    "    print 'Rinse'\n",
    "print 'Dry off!'"
   ]
  },
  {
   "cell_type": "code",
   "execution_count": 38,
   "metadata": {
    "collapsed": false
   },
   "outputs": [
    {
     "name": "stdout",
     "output_type": "stream",
     "text": [
      "Enter a number: ghd\n",
      "Invalid input\n",
      "Enter a number: 7\n",
      "Enter a number: 5\n",
      "Enter a number: 4\n",
      "Enter a number: done\n",
      "Maximum is 7\n",
      "Minimum is 4\n"
     ]
    }
   ],
   "source": [
    "largest = None\n",
    "smallest = None\n",
    "while True:\n",
    "\tinp = raw_input(\"Enter a number: \")\n",
    "\tif inp == \"done\" : break\n",
    "\ttry:\n",
    "\t\tnum = int(inp)\n",
    "\texcept: #this appears to also work for an unintended blank line of data as well.\n",
    "\t\tprint \"Invalid input\"\n",
    "\t\tcontinue\n",
    "\tif largest is None:\n",
    "                largest = num\n",
    "\telif num > largest:\n",
    "                largest = num\n",
    "\tif smallest is None:\n",
    "                smallest = num\n",
    "\telif num < smallest:\n",
    "                smallest = num\n",
    "print \"Maximum is\", largest\n",
    "print \"Minimum is\", smallest"
   ]
  },
  {
   "cell_type": "code",
   "execution_count": 40,
   "metadata": {
    "collapsed": false
   },
   "outputs": [
    {
     "name": "stdout",
     "output_type": "stream",
     "text": [
      "Enter a number: sreg\n",
      "Invalid input\n",
      "Enter a number: 7\n",
      "Enter a number: 5\n",
      "Enter a number: 4\n",
      "Enter a number: done\n",
      "Maximum is 7\n",
      "Minimum is 4\n"
     ]
    }
   ],
   "source": [
    "nums = []\n",
    "while True:\n",
    "  n = raw_input(\"Enter a number: \")\n",
    "  if n == \"done\":\n",
    "    break\n",
    "  try:\n",
    "    nums.append(int(n))\n",
    "  except ValueError:\n",
    "    print \"Invalid input\"\n",
    "\n",
    "print \"Maximum is %d\" % max(nums)\n",
    "print \"Minimum is %d\" % min(nums)"
   ]
  },
  {
   "cell_type": "code",
   "execution_count": null,
   "metadata": {
    "collapsed": true
   },
   "outputs": [],
   "source": []
  }
 ],
 "metadata": {
  "kernelspec": {
   "display_name": "Python 2",
   "language": "python",
   "name": "python2"
  },
  "language_info": {
   "codemirror_mode": {
    "name": "ipython",
    "version": 2
   },
   "file_extension": ".py",
   "mimetype": "text/x-python",
   "name": "python",
   "nbconvert_exporter": "python",
   "pygments_lexer": "ipython2",
   "version": "2.7.13"
  }
 },
 "nbformat": 4,
 "nbformat_minor": 2
}
